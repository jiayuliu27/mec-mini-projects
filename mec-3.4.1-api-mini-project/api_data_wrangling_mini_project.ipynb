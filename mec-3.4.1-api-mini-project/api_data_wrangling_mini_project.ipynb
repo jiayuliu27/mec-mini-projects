{
 "cells": [
  {
   "cell_type": "markdown",
   "metadata": {},
   "source": [
    "This exercise will require you to pull some data from the Qunadl API. Qaundl is currently the most widely used aggregator of financial market data."
   ]
  },
  {
   "cell_type": "markdown",
   "metadata": {},
   "source": [
    "As a first step, you will need to register a free account on the http://www.quandl.com website."
   ]
  },
  {
   "cell_type": "markdown",
   "metadata": {},
   "source": [
    "After you register, you will be provided with a unique API key, that you should store:"
   ]
  },
  {
   "cell_type": "code",
   "execution_count": null,
   "metadata": {
    "collapsed": true
   },
   "outputs": [],
   "source": [
    "# Store the API key as a string - according to PEP8, constants are always named in all upper case\n",
    "API_KEY = ''"
   ]
  },
  {
   "cell_type": "markdown",
   "metadata": {},
   "source": [
    "Qaundl has a large number of data sources, but, unfortunately, most of them require a Premium subscription. Still, there are also a good number of free datasets."
   ]
  },
  {
   "cell_type": "markdown",
   "metadata": {},
   "source": [
    "For this mini project, we will focus on equities data from the Frankfurt Stock Exhange (FSE), which is available for free. We'll try and analyze the stock prices of a company called Carl Zeiss Meditec, which manufactures tools for eye examinations, as well as medical lasers for laser eye surgery: https://www.zeiss.com/meditec/int/home.html. The company is listed under the stock ticker AFX_X."
   ]
  },
  {
   "cell_type": "markdown",
   "metadata": {},
   "source": [
    "You can find the detailed Quandl API instructions here: https://docs.quandl.com/docs/time-series"
   ]
  },
  {
   "cell_type": "markdown",
   "metadata": {},
   "source": [
    "While there is a dedicated Python package for connecting to the Quandl API, we would prefer that you use the *requests* package, which can be easily downloaded using *pip* or *conda*. You can find the documentation for the package here: http://docs.python-requests.org/en/master/ "
   ]
  },
  {
   "cell_type": "markdown",
   "metadata": {},
   "source": [
    "Finally, apart from the *requests* package, you are encouraged to not use any third party Python packages, such as *pandas*, and instead focus on what's available in the Python Standard Library (the *collections* module might come in handy: https://pymotw.com/3/collections/).\n",
    "Also, since you won't have access to DataFrames, you are encouraged to us Python's native data structures - preferably dictionaries, though some questions can also be answered using lists.\n",
    "You can read more on these data structures here: https://docs.python.org/3/tutorial/datastructures.html"
   ]
  },
  {
   "cell_type": "markdown",
   "metadata": {},
   "source": [
    "Keep in mind that the JSON responses you will be getting from the API map almost one-to-one to Python's dictionaries. Unfortunately, they can be very nested, so make sure you read up on indexing dictionaries in the documentation provided above."
   ]
  },
  {
   "cell_type": "code",
   "execution_count": 1,
   "metadata": {
    "collapsed": true
   },
   "outputs": [],
   "source": [
    "# First, import the relevant modules\n",
    "import requests\n",
    "import collections\n",
    "import json\n",
    "import math\n"
   ]
  },
  {
   "cell_type": "code",
   "execution_count": 2,
   "metadata": {
    "collapsed": true
   },
   "outputs": [],
   "source": [
    "# Now, call the Quandl API and pull out a small sample of the data (only one day) to get a glimpse\n",
    "# into the JSON structure that will be returned\n",
    "r = requests.get('https://www.quandl.com/api/v3/datasets/FSE/AFX_X/data.json?limit=1')\n",
    "data = json.loads(r.text)"
   ]
  },
  {
   "cell_type": "code",
   "execution_count": 7,
   "metadata": {
    "collapsed": true
   },
   "outputs": [
    {
     "output_type": "stream",
     "name": "stdout",
     "text": [
      "https://www.quandl.com/api/v3/datasets/FSE/AFX_X/data.json?start_date=2012-11-01&end_date=2012-11-02\n200\n[['2012-11-02', 21.33, 21.33, 20.99, 21.26, None, 23739.0, 503243.0, None, None, None], ['2012-11-01', 21.14, 21.29, 20.8, 21.29, None, 29901.0, 631083.0, None, None, None]]\n"
     ]
    }
   ],
   "source": [
    "# Inspect the JSON structure of the object you created, and take note of how nested it is,\n",
    "# as well as the overall structure\n",
    "def getFSEData(params):\n",
    "    url = 'https://www.quandl.com/api/v3/datasets/FSE/AFX_X/data.json'\n",
    "    if params:\n",
    "        url = url + '?'\n",
    "    for key in params:\n",
    "        url = url + key + '=' + params[key] + '&'\n",
    "    print(url[:-1])\n",
    "    r = requests.get(url[:-1])\n",
    "    data = {}\n",
    "    print(r.status_code)\n",
    "    if r.status_code == 200:\n",
    "        data = json.loads(r.text)['dataset_data']['data']\n",
    "    return data\n",
    "\n",
    "data = getFSEData({\n",
    "    'start_date': '2012-11-01',\n",
    "    'end_date': '2012-11-02'\n",
    "})\n",
    "\n",
    "print(data)"
   ]
  },
  {
   "cell_type": "markdown",
   "metadata": {},
   "source": [
    "These are your tasks for this mini project:\n",
    "\n",
    "1. Collect data from the Franfurt Stock Exchange, for the ticker AFX_X, for the whole year 2017 (keep in mind that the date format is YYYY-MM-DD).\n",
    "2. Convert the returned JSON object into a Python dictionary.\n",
    "3. Calculate what the highest and lowest opening prices were for the stock in this period.\n",
    "4. What was the largest change in any one day (based on High and Low price)?\n",
    "5. What was the largest change between any two days (based on Closing Price)?\n",
    "6. What was the average daily trading volume during this year?\n",
    "7. (Optional) What was the median trading volume during this year. (Note: you may need to implement your own function for calculating the median.)"
   ]
  },
  {
   "cell_type": "code",
   "execution_count": 5,
   "metadata": {
    "collapsed": true
   },
   "outputs": [
    {
     "output_type": "stream",
     "name": "stdout",
     "text": [
      "https://www.quandl.com/api/v3/datasets/FSE/AFX_X/data.json?start_date=2017-01-01&end_date=2017-12-31\n",
      "200\n"
     ]
    },
    {
     "output_type": "error",
     "ename": "KeyError",
     "evalue": "'data'",
     "traceback": [
      "\u001b[0;31m---------------------------------------------------------------------------\u001b[0m",
      "\u001b[0;31mKeyError\u001b[0m                                  Traceback (most recent call last)",
      "\u001b[0;32m<ipython-input-5-60e3a1ae4d69>\u001b[0m in \u001b[0;36m<module>\u001b[0;34m\u001b[0m\n\u001b[1;32m     39\u001b[0m \u001b[0;34m\u001b[0m\u001b[0m\n\u001b[1;32m     40\u001b[0m \u001b[0mvolumes\u001b[0m\u001b[0;34m.\u001b[0m\u001b[0msort\u001b[0m\u001b[0;34m(\u001b[0m\u001b[0;34m)\u001b[0m\u001b[0;34m\u001b[0m\u001b[0;34m\u001b[0m\u001b[0m\n\u001b[0;32m---> 41\u001b[0;31m print(\"\"\"\n\u001b[0m\u001b[1;32m     42\u001b[0m \u001b[0mHighest\u001b[0m \u001b[0mOpening\u001b[0m \u001b[0mPrice\u001b[0m\u001b[0;34m:\u001b[0m \u001b[0;34m{\u001b[0m\u001b[0mdata\u001b[0m\u001b[0;34m.\u001b[0m\u001b[0mopening\u001b[0m\u001b[0;34m.\u001b[0m\u001b[0mmax\u001b[0m\u001b[0;34m(\u001b[0m\u001b[0;34m)\u001b[0m\u001b[0;34m}\u001b[0m\u001b[0;34m\u001b[0m\u001b[0;34m\u001b[0m\u001b[0m\n\u001b[1;32m     43\u001b[0m \u001b[0mLowest\u001b[0m \u001b[0mOpening\u001b[0m \u001b[0mPrice\u001b[0m\u001b[0;34m:\u001b[0m \u001b[0;34m{\u001b[0m\u001b[0mlowestOpening\u001b[0m\u001b[0;34m}\u001b[0m\u001b[0;34m\u001b[0m\u001b[0;34m\u001b[0m\u001b[0m\n",
      "\u001b[0;31mKeyError\u001b[0m: 'data'"
     ]
    }
   ],
   "source": [
    "\n",
    "data = getFSEData({\n",
    "    'start_date': '2017-01-01',\n",
    "    'end_date': '2017-12-31'\n",
    "})\n",
    "\n",
    "highestOpening = float('-inf')\n",
    "lowestOpening = float('inf')\n",
    "largestChange = float('-inf')\n",
    "highestClosing = float('-inf')\n",
    "lowestClosing = float('inf')\n",
    "\n",
    "volumes = []\n",
    "\n",
    "totalVolume = 0\n",
    "totalDays = len(data)\n",
    "if not totalDays:\n",
    "    totalDays = 1\n",
    "\n",
    "for entry in data:\n",
    "    [d, opening, high, low, closing, af, volume, at, x, y, z] = entry\n",
    "    if opening:\n",
    "        if opening > highestOpening:\n",
    "            highestOpening = opening\n",
    "        if opening < lowestOpening:\n",
    "            lowestOpening = opening\n",
    "    if high and low:\n",
    "        dayChange = high - low\n",
    "        if dayChange > largestChange:\n",
    "            largestChange = dayChange\n",
    "    if closing:\n",
    "        if closing > highestClosing:\n",
    "            highestClosing = closing\n",
    "        if closing < lowestClosing:\n",
    "            lowestClosing = closing\n",
    "    if volume:\n",
    "        totalVolume += volume\n",
    "\n",
    "    volumes.append(volume)\n",
    "\n",
    "volumes.sort()\n",
    "print(\"\"\"\n",
    "Highest Opening Price: {highestOpening}\n",
    "Lowest Opening Price: {lowestOpening}\n",
    "Largest change in one day: {largestChange}\n",
    "Largest change between any two days (closing price): {closingChange}\n",
    "Average daily trading volume: {avgVol}\n",
    "Median trading volume: {medVol}\n",
    "\"\"\".format(\n",
    "    highestOpening=highestOpening,\n",
    "    lowestOpening = lowestOpening,\n",
    "    largestChange = largestChange,\n",
    "    closingChange = highestClosing - lowestClosing,\n",
    "    avgVol = totalVolume / totalDays,\n",
    "    medVol = volumes[math.floor(len(volumes) / 2)]\n",
    "))"
   ]
  },
  {
   "cell_type": "code",
   "execution_count": null,
   "metadata": {},
   "outputs": [],
   "source": []
  }
 ],
 "metadata": {
  "kernelspec": {
   "display_name": "Python 3",
   "language": "python",
   "name": "python3"
  },
  "language_info": {
   "codemirror_mode": {
    "name": "ipython",
    "version": 3
   },
   "file_extension": ".py",
   "mimetype": "text/x-python",
   "name": "python",
   "nbconvert_exporter": "python",
   "pygments_lexer": "ipython3",
   "version": "3.9.2-final"
  }
 },
 "nbformat": 4,
 "nbformat_minor": 2
}