{
 "cells": [
  {
   "cell_type": "markdown",
   "metadata": {},
   "source": [
    "# JSON examples and exercise\n",
    "****\n",
    "+ get familiar with packages for dealing with JSON\n",
    "+ study examples with JSON strings and files \n",
    "+ work on exercise to be completed and submitted \n",
    "****\n",
    "+ reference: http://pandas.pydata.org/pandas-docs/stable/io.html#io-json-reader\n",
    "+ data source: http://jsonstudio.com/resources/\n",
    "****"
   ]
  },
  {
   "cell_type": "code",
   "execution_count": 28,
   "metadata": {
    "collapsed": true
   },
   "outputs": [],
   "source": [
    "import pandas as pd"
   ]
  },
  {
   "cell_type": "markdown",
   "metadata": {},
   "source": [
    "## imports for Python, Pandas"
   ]
  },
  {
   "cell_type": "code",
   "execution_count": 29,
   "metadata": {
    "collapsed": true
   },
   "outputs": [],
   "source": [
    "import json\n",
    "from pandas.io.json import json_normalize"
   ]
  },
  {
   "cell_type": "markdown",
   "metadata": {},
   "source": [
    "## JSON example, with string\n",
    "\n",
    "+ demonstrates creation of normalized dataframes (tables) from nested json string\n",
    "+ source: http://pandas.pydata.org/pandas-docs/stable/io.html#normalization"
   ]
  },
  {
   "cell_type": "code",
   "execution_count": 18,
   "metadata": {
    "collapsed": true
   },
   "outputs": [
    {
     "output_type": "execute_result",
     "data": {
      "text/plain": [
       "list"
      ]
     },
     "metadata": {},
     "execution_count": 18
    }
   ],
   "source": [
    "# define json string\n",
    "data = [{'state': 'Florida', \n",
    "         'shortname': 'FL',\n",
    "         'info': {'governor': 'Rick Scott'},\n",
    "         'counties': [{'name': 'Dade', 'population': 12345},\n",
    "                      {'name': 'Broward', 'population': 40000},\n",
    "                      {'name': 'Palm Beach', 'population': 60000}]},\n",
    "        {'state': 'Ohio',\n",
    "         'shortname': 'OH',\n",
    "         'info': {'governor': 'John Kasich'},\n",
    "         'counties': [{'name': 'Summit', 'population': 1234},\n",
    "                      {'name': 'Cuyahoga', 'population': 1337}]}]\n",
    "\n",
    "type(data)"
   ]
  },
  {
   "cell_type": "code",
   "execution_count": 6,
   "metadata": {
    "collapsed": false
   },
   "outputs": [
    {
     "output_type": "execute_result",
     "data": {
      "text/plain": [
       "         name  population\n",
       "0        Dade       12345\n",
       "1     Broward       40000\n",
       "2  Palm Beach       60000\n",
       "3      Summit        1234\n",
       "4    Cuyahoga        1337"
      ],
      "text/html": "<div>\n<style scoped>\n    .dataframe tbody tr th:only-of-type {\n        vertical-align: middle;\n    }\n\n    .dataframe tbody tr th {\n        vertical-align: top;\n    }\n\n    .dataframe thead th {\n        text-align: right;\n    }\n</style>\n<table border=\"1\" class=\"dataframe\">\n  <thead>\n    <tr style=\"text-align: right;\">\n      <th></th>\n      <th>name</th>\n      <th>population</th>\n    </tr>\n  </thead>\n  <tbody>\n    <tr>\n      <th>0</th>\n      <td>Dade</td>\n      <td>12345</td>\n    </tr>\n    <tr>\n      <th>1</th>\n      <td>Broward</td>\n      <td>40000</td>\n    </tr>\n    <tr>\n      <th>2</th>\n      <td>Palm Beach</td>\n      <td>60000</td>\n    </tr>\n    <tr>\n      <th>3</th>\n      <td>Summit</td>\n      <td>1234</td>\n    </tr>\n    <tr>\n      <th>4</th>\n      <td>Cuyahoga</td>\n      <td>1337</td>\n    </tr>\n  </tbody>\n</table>\n</div>"
     },
     "metadata": {},
     "execution_count": 6
    }
   ],
   "source": [
    "# use normalization to create tables from nested element\n",
    "json_normalize(data, 'counties')"
   ]
  },
  {
   "cell_type": "code",
   "execution_count": 7,
   "metadata": {
    "collapsed": false
   },
   "outputs": [
    {
     "output_type": "execute_result",
     "data": {
      "text/plain": [
       "         name  population    state shortname info.governor\n",
       "0        Dade       12345  Florida        FL    Rick Scott\n",
       "1     Broward       40000  Florida        FL    Rick Scott\n",
       "2  Palm Beach       60000  Florida        FL    Rick Scott\n",
       "3      Summit        1234     Ohio        OH   John Kasich\n",
       "4    Cuyahoga        1337     Ohio        OH   John Kasich"
      ],
      "text/html": "<div>\n<style scoped>\n    .dataframe tbody tr th:only-of-type {\n        vertical-align: middle;\n    }\n\n    .dataframe tbody tr th {\n        vertical-align: top;\n    }\n\n    .dataframe thead th {\n        text-align: right;\n    }\n</style>\n<table border=\"1\" class=\"dataframe\">\n  <thead>\n    <tr style=\"text-align: right;\">\n      <th></th>\n      <th>name</th>\n      <th>population</th>\n      <th>state</th>\n      <th>shortname</th>\n      <th>info.governor</th>\n    </tr>\n  </thead>\n  <tbody>\n    <tr>\n      <th>0</th>\n      <td>Dade</td>\n      <td>12345</td>\n      <td>Florida</td>\n      <td>FL</td>\n      <td>Rick Scott</td>\n    </tr>\n    <tr>\n      <th>1</th>\n      <td>Broward</td>\n      <td>40000</td>\n      <td>Florida</td>\n      <td>FL</td>\n      <td>Rick Scott</td>\n    </tr>\n    <tr>\n      <th>2</th>\n      <td>Palm Beach</td>\n      <td>60000</td>\n      <td>Florida</td>\n      <td>FL</td>\n      <td>Rick Scott</td>\n    </tr>\n    <tr>\n      <th>3</th>\n      <td>Summit</td>\n      <td>1234</td>\n      <td>Ohio</td>\n      <td>OH</td>\n      <td>John Kasich</td>\n    </tr>\n    <tr>\n      <th>4</th>\n      <td>Cuyahoga</td>\n      <td>1337</td>\n      <td>Ohio</td>\n      <td>OH</td>\n      <td>John Kasich</td>\n    </tr>\n  </tbody>\n</table>\n</div>"
     },
     "metadata": {},
     "execution_count": 7
    }
   ],
   "source": [
    "# further populate tables created from nested element\n",
    "json_normalize(data, 'counties', ['state', 'shortname', ['info', 'governor']])"
   ]
  },
  {
   "cell_type": "markdown",
   "metadata": {},
   "source": [
    "****\n",
    "## JSON example, with file\n",
    "\n",
    "+ demonstrates reading in a json file as a string and as a table\n",
    "+ uses small sample file containing data about projects funded by the World Bank \n",
    "+ data source: http://jsonstudio.com/resources/"
   ]
  },
  {
   "cell_type": "code",
   "execution_count": 8,
   "metadata": {
    "collapsed": false
   },
   "outputs": [
    {
     "output_type": "execute_result",
     "data": {
      "text/plain": [
       "[{'_id': {'$oid': '52b213b38594d8a2be17c780'},\n",
       "  'approvalfy': 1999,\n",
       "  'board_approval_month': 'November',\n",
       "  'boardapprovaldate': '2013-11-12T00:00:00Z',\n",
       "  'borrower': 'FEDERAL DEMOCRATIC REPUBLIC OF ETHIOPIA',\n",
       "  'closingdate': '2018-07-07T00:00:00Z',\n",
       "  'country_namecode': 'Federal Democratic Republic of Ethiopia!$!ET',\n",
       "  'countrycode': 'ET',\n",
       "  'countryname': 'Federal Democratic Republic of Ethiopia',\n",
       "  'countryshortname': 'Ethiopia',\n",
       "  'docty': 'Project Information Document,Indigenous Peoples Plan,Project Information Document',\n",
       "  'envassesmentcategorycode': 'C',\n",
       "  'grantamt': 0,\n",
       "  'ibrdcommamt': 0,\n",
       "  'id': 'P129828',\n",
       "  'idacommamt': 130000000,\n",
       "  'impagency': 'MINISTRY OF EDUCATION',\n",
       "  'lendinginstr': 'Investment Project Financing',\n",
       "  'lendinginstrtype': 'IN',\n",
       "  'lendprojectcost': 550000000,\n",
       "  'majorsector_percent': [{'Name': 'Education', 'Percent': 46},\n",
       "   {'Name': 'Education', 'Percent': 26},\n",
       "   {'Name': 'Public Administration, Law, and Justice', 'Percent': 16},\n",
       "   {'Name': 'Education', 'Percent': 12}],\n",
       "  'mjsector_namecode': [{'name': 'Education', 'code': 'EX'},\n",
       "   {'name': 'Education', 'code': 'EX'},\n",
       "   {'name': 'Public Administration, Law, and Justice', 'code': 'BX'},\n",
       "   {'name': 'Education', 'code': 'EX'}],\n",
       "  'mjtheme': ['Human development'],\n",
       "  'mjtheme_namecode': [{'name': 'Human development', 'code': '8'},\n",
       "   {'name': '', 'code': '11'}],\n",
       "  'mjthemecode': '8,11',\n",
       "  'prodline': 'PE',\n",
       "  'prodlinetext': 'IBRD/IDA',\n",
       "  'productlinetype': 'L',\n",
       "  'project_abstract': {'cdata': 'The development objective of the Second Phase of General Education Quality Improvement Project for Ethiopia is to improve learning conditions in primary and secondary schools and strengthen institutions at different levels of educational administration. The project has six components. The first component is curriculum, textbooks, assessment, examinations, and inspection. This component will support improvement of learning conditions in grades KG-12 by providing increased access to teaching and learning materials and through improvements to the curriculum by assessing the strengths and weaknesses of the current curriculum. This component has following four sub-components: (i) curriculum reform and implementation; (ii) teaching and learning materials; (iii) assessment and examinations; and (iv) inspection. The second component is teacher development program (TDP). This component will support improvements in learning conditions in both primary and secondary schools by advancing the quality of teaching in general education through: (a) enhancing the training of pre-service teachers in teacher education institutions; and (b) improving the quality of in-service teacher training. This component has following three sub-components: (i) pre-service teacher training; (ii) in-service teacher training; and (iii) licensing and relicensing of teachers and school leaders. The third component is school improvement plan. This component will support the strengthening of school planning in order to improve learning outcomes, and to partly fund the school improvement plans through school grants. It has following two sub-components: (i) school improvement plan; and (ii) school grants. The fourth component is management and capacity building, including education management information systems (EMIS). This component will support management and capacity building aspect of the project. This component has following three sub-components: (i) capacity building for education planning and management; (ii) capacity building for school planning and management; and (iii) EMIS. The fifth component is improving the quality of learning and teaching in secondary schools and universities through the use of information and communications technology (ICT). It has following five sub-components: (i) national policy and institution for ICT in general education; (ii) national ICT infrastructure improvement plan for general education; (iii) develop an integrated monitoring, evaluation, and learning system specifically for the ICT component; (iv) teacher professional development in the use of ICT; and (v) provision of limited number of e-Braille display readers with the possibility to scale up to all secondary education schools based on the successful implementation and usage of the readers. The sixth component is program coordination, monitoring and evaluation, and communication. It will support institutional strengthening by developing capacities in all aspects of program coordination, monitoring and evaluation; a new sub-component on communications will support information sharing for better management and accountability. It has following three sub-components: (i) program coordination; (ii) monitoring and evaluation (M and E); and (iii) communication.'},\n",
       "  'project_name': 'Ethiopia General Education Quality Improvement Project II',\n",
       "  'projectdocs': [{'DocTypeDesc': 'Project Information Document (PID),  Vol.',\n",
       "    'DocType': 'PID',\n",
       "    'EntityID': '090224b081e545fb_1_0',\n",
       "    'DocURL': 'http://www-wds.worldbank.org/servlet/WDSServlet?pcont=details&eid=090224b081e545fb_1_0',\n",
       "    'DocDate': '28-AUG-2013'},\n",
       "   {'DocTypeDesc': 'Indigenous Peoples Plan (IP),  Vol.1 of 1',\n",
       "    'DocType': 'IP',\n",
       "    'EntityID': '000442464_20130920111729',\n",
       "    'DocURL': 'http://www-wds.worldbank.org/servlet/WDSServlet?pcont=details&eid=000442464_20130920111729',\n",
       "    'DocDate': '01-JUL-2013'},\n",
       "   {'DocTypeDesc': 'Project Information Document (PID),  Vol.',\n",
       "    'DocType': 'PID',\n",
       "    'EntityID': '090224b0817b19e2_1_0',\n",
       "    'DocURL': 'http://www-wds.worldbank.org/servlet/WDSServlet?pcont=details&eid=090224b0817b19e2_1_0',\n",
       "    'DocDate': '22-NOV-2012'}],\n",
       "  'projectfinancialtype': 'IDA',\n",
       "  'projectstatusdisplay': 'Active',\n",
       "  'regionname': 'Africa',\n",
       "  'sector': [{'Name': 'Primary education'},\n",
       "   {'Name': 'Secondary education'},\n",
       "   {'Name': 'Public administration- Other social services'},\n",
       "   {'Name': 'Tertiary education'}],\n",
       "  'sector1': {'Name': 'Primary education', 'Percent': 46},\n",
       "  'sector2': {'Name': 'Secondary education', 'Percent': 26},\n",
       "  'sector3': {'Name': 'Public administration- Other social services',\n",
       "   'Percent': 16},\n",
       "  'sector4': {'Name': 'Tertiary education', 'Percent': 12},\n",
       "  'sector_namecode': [{'name': 'Primary education', 'code': 'EP'},\n",
       "   {'name': 'Secondary education', 'code': 'ES'},\n",
       "   {'name': 'Public administration- Other social services', 'code': 'BS'},\n",
       "   {'name': 'Tertiary education', 'code': 'ET'}],\n",
       "  'sectorcode': 'ET,BS,ES,EP',\n",
       "  'source': 'IBRD',\n",
       "  'status': 'Active',\n",
       "  'supplementprojectflg': 'N',\n",
       "  'theme1': {'Name': 'Education for all', 'Percent': 100},\n",
       "  'theme_namecode': [{'name': 'Education for all', 'code': '65'}],\n",
       "  'themecode': '65',\n",
       "  'totalamt': 130000000,\n",
       "  'totalcommamt': 130000000,\n",
       "  'url': 'http://www.worldbank.org/projects/P129828/ethiopia-general-education-quality-improvement-project-ii?lang=en'},\n",
       " {'_id': {'$oid': '52b213b38594d8a2be17c781'},\n",
       "  'approvalfy': 2015,\n",
       "  'board_approval_month': 'November',\n",
       "  'boardapprovaldate': '2013-11-04T00:00:00Z',\n",
       "  'borrower': 'GOVERNMENT OF TUNISIA',\n",
       "  'country_namecode': 'Republic of Tunisia!$!TN',\n",
       "  'countrycode': 'TN',\n",
       "  'countryname': 'Republic of Tunisia',\n",
       "  'countryshortname': 'Tunisia',\n",
       "  'docty': 'Project Information Document,Integrated Safeguards Data Sheet,Integrated Safeguards Data Sheet,Project Information Document,Integrated Safeguards Data Sheet,Project Information Document',\n",
       "  'envassesmentcategorycode': 'C',\n",
       "  'grantamt': 4700000,\n",
       "  'ibrdcommamt': 0,\n",
       "  'id': 'P144674',\n",
       "  'idacommamt': 0,\n",
       "  'impagency': 'MINISTRY OF FINANCE',\n",
       "  'lendinginstr': 'Specific Investment Loan',\n",
       "  'lendinginstrtype': 'IN',\n",
       "  'lendprojectcost': 5700000,\n",
       "  'majorsector_percent': [{'Name': 'Public Administration, Law, and Justice',\n",
       "    'Percent': 70},\n",
       "   {'Name': 'Public Administration, Law, and Justice', 'Percent': 30}],\n",
       "  'mjsector_namecode': [{'name': 'Public Administration, Law, and Justice',\n",
       "    'code': 'BX'},\n",
       "   {'name': 'Public Administration, Law, and Justice', 'code': 'BX'}],\n",
       "  'mjtheme': ['Economic management', 'Social protection and risk management'],\n",
       "  'mjtheme_namecode': [{'name': 'Economic management', 'code': '1'},\n",
       "   {'name': 'Social protection and risk management', 'code': '6'}],\n",
       "  'mjthemecode': '1,6',\n",
       "  'prodline': 'RE',\n",
       "  'prodlinetext': 'Recipient Executed Activities',\n",
       "  'productlinetype': 'L',\n",
       "  'project_name': 'TN: DTF Social Protection Reforms Support',\n",
       "  'projectdocs': [{'DocTypeDesc': 'Project Information Document (PID),  Vol.1 of 1',\n",
       "    'DocType': 'PID',\n",
       "    'EntityID': '000333037_20131024115616',\n",
       "    'DocURL': 'http://www-wds.worldbank.org/servlet/WDSServlet?pcont=details&eid=000333037_20131024115616',\n",
       "    'DocDate': '29-MAR-2013'},\n",
       "   {'DocTypeDesc': 'Integrated Safeguards Data Sheet (ISDS),  Vol.1 of 1',\n",
       "    'DocType': 'ISDS',\n",
       "    'EntityID': '000356161_20131024151611',\n",
       "    'DocURL': 'http://www-wds.worldbank.org/servlet/WDSServlet?pcont=details&eid=000356161_20131024151611',\n",
       "    'DocDate': '29-MAR-2013'},\n",
       "   {'DocTypeDesc': 'Integrated Safeguards Data Sheet (ISDS),  Vol.1 of 1',\n",
       "    'DocType': 'ISDS',\n",
       "    'EntityID': '000442464_20131031112136',\n",
       "    'DocURL': 'http://www-wds.worldbank.org/servlet/WDSServlet?pcont=details&eid=000442464_20131031112136',\n",
       "    'DocDate': '29-MAR-2013'},\n",
       "   {'DocTypeDesc': 'Project Information Document (PID),  Vol.1 of 1',\n",
       "    'DocType': 'PID',\n",
       "    'EntityID': '000333037_20131031105716',\n",
       "    'DocURL': 'http://www-wds.worldbank.org/servlet/WDSServlet?pcont=details&eid=000333037_20131031105716',\n",
       "    'DocDate': '29-MAR-2013'},\n",
       "   {'DocTypeDesc': 'Integrated Safeguards Data Sheet (ISDS),  Vol.1 of 1',\n",
       "    'DocType': 'ISDS',\n",
       "    'EntityID': '000356161_20130305113209',\n",
       "    'DocURL': 'http://www-wds.worldbank.org/servlet/WDSServlet?pcont=details&eid=000356161_20130305113209',\n",
       "    'DocDate': '16-JAN-2013'},\n",
       "   {'DocTypeDesc': 'Project Information Document (PID),  Vol.1 of 1',\n",
       "    'DocType': 'PID',\n",
       "    'EntityID': '000356161_20130305113716',\n",
       "    'DocURL': 'http://www-wds.worldbank.org/servlet/WDSServlet?pcont=details&eid=000356161_20130305113716',\n",
       "    'DocDate': '16-JAN-2013'}],\n",
       "  'projectfinancialtype': 'OTHER',\n",
       "  'projectstatusdisplay': 'Active',\n",
       "  'regionname': 'Middle East and North Africa',\n",
       "  'sector': [{'Name': 'Public administration- Other social services'},\n",
       "   {'Name': 'General public administration sector'}],\n",
       "  'sector1': {'Name': 'Public administration- Other social services',\n",
       "   'Percent': 70},\n",
       "  'sector2': {'Name': 'General public administration sector', 'Percent': 30},\n",
       "  'sector_namecode': [{'name': 'Public administration- Other social services',\n",
       "    'code': 'BS'},\n",
       "   {'name': 'General public administration sector', 'code': 'BZ'}],\n",
       "  'sectorcode': 'BZ,BS',\n",
       "  'source': 'IBRD',\n",
       "  'status': 'Active',\n",
       "  'supplementprojectflg': 'N',\n",
       "  'theme1': {'Name': 'Other economic management', 'Percent': 30},\n",
       "  'theme_namecode': [{'name': 'Other economic management', 'code': '24'},\n",
       "   {'name': 'Social safety nets', 'code': '54'}],\n",
       "  'themecode': '54,24',\n",
       "  'totalamt': 0,\n",
       "  'totalcommamt': 4700000,\n",
       "  'url': 'http://www.worldbank.org/projects/P144674?lang=en'}]"
      ]
     },
     "metadata": {},
     "execution_count": 8
    }
   ],
   "source": [
    "# load json as string\n",
    "json.load((open('data/world_bank_projects_less.json')))"
   ]
  },
  {
   "cell_type": "code",
   "execution_count": 24,
   "metadata": {
    "collapsed": false
   },
   "outputs": [
    {
     "output_type": "stream",
     "name": "stdout",
     "text": [
      "<class 'pandas.core.frame.DataFrame'>\nRangeIndex: 2 entries, 0 to 1\nData columns (total 50 columns):\n #   Column                    Non-Null Count  Dtype \n---  ------                    --------------  ----- \n 0   _id                       2 non-null      object\n 1   approvalfy                2 non-null      int64 \n 2   board_approval_month      2 non-null      object\n 3   boardapprovaldate         2 non-null      object\n 4   borrower                  2 non-null      object\n 5   closingdate               1 non-null      object\n 6   country_namecode          2 non-null      object\n 7   countrycode               2 non-null      object\n 8   countryname               2 non-null      object\n 9   countryshortname          2 non-null      object\n 10  docty                     2 non-null      object\n 11  envassesmentcategorycode  2 non-null      object\n 12  grantamt                  2 non-null      int64 \n 13  ibrdcommamt               2 non-null      int64 \n 14  id                        2 non-null      object\n 15  idacommamt                2 non-null      int64 \n 16  impagency                 2 non-null      object\n 17  lendinginstr              2 non-null      object\n 18  lendinginstrtype          2 non-null      object\n 19  lendprojectcost           2 non-null      int64 \n 20  majorsector_percent       2 non-null      object\n 21  mjsector_namecode         2 non-null      object\n 22  mjtheme                   2 non-null      object\n 23  mjtheme_namecode          2 non-null      object\n 24  mjthemecode               2 non-null      object\n 25  prodline                  2 non-null      object\n 26  prodlinetext              2 non-null      object\n 27  productlinetype           2 non-null      object\n 28  project_abstract          1 non-null      object\n 29  project_name              2 non-null      object\n 30  projectdocs               2 non-null      object\n 31  projectfinancialtype      2 non-null      object\n 32  projectstatusdisplay      2 non-null      object\n 33  regionname                2 non-null      object\n 34  sector                    2 non-null      object\n 35  sector1                   2 non-null      object\n 36  sector2                   2 non-null      object\n 37  sector3                   1 non-null      object\n 38  sector4                   1 non-null      object\n 39  sector_namecode           2 non-null      object\n 40  sectorcode                2 non-null      object\n 41  source                    2 non-null      object\n 42  status                    2 non-null      object\n 43  supplementprojectflg      2 non-null      object\n 44  theme1                    2 non-null      object\n 45  theme_namecode            2 non-null      object\n 46  themecode                 2 non-null      object\n 47  totalamt                  2 non-null      int64 \n 48  totalcommamt              2 non-null      int64 \n 49  url                       2 non-null      object\ndtypes: int64(7), object(43)\nmemory usage: 928.0+ bytes\n"
     ]
    },
    {
     "output_type": "execute_result",
     "data": {
      "text/plain": [
       "                                    _id  approvalfy board_approval_month  \\\n",
       "0  {'$oid': '52b213b38594d8a2be17c780'}        1999             November   \n",
       "1  {'$oid': '52b213b38594d8a2be17c781'}        2015             November   \n",
       "\n",
       "      boardapprovaldate                                 borrower  \\\n",
       "0  2013-11-12T00:00:00Z  FEDERAL DEMOCRATIC REPUBLIC OF ETHIOPIA   \n",
       "1  2013-11-04T00:00:00Z                    GOVERNMENT OF TUNISIA   \n",
       "\n",
       "            closingdate                              country_namecode  \\\n",
       "0  2018-07-07T00:00:00Z  Federal Democratic Republic of Ethiopia!$!ET   \n",
       "1                   NaN                      Republic of Tunisia!$!TN   \n",
       "\n",
       "  countrycode                              countryname countryshortname  ...  \\\n",
       "0          ET  Federal Democratic Republic of Ethiopia         Ethiopia  ...   \n",
       "1          TN                      Republic of Tunisia          Tunisia  ...   \n",
       "\n",
       "    sectorcode source  status  supplementprojectflg  \\\n",
       "0  ET,BS,ES,EP   IBRD  Active                     N   \n",
       "1        BZ,BS   IBRD  Active                     N   \n",
       "\n",
       "                                              theme1  \\\n",
       "0      {'Name': 'Education for all', 'Percent': 100}   \n",
       "1  {'Name': 'Other economic management', 'Percent...   \n",
       "\n",
       "                                      theme_namecode themecode   totalamt  \\\n",
       "0      [{'name': 'Education for all', 'code': '65'}]        65  130000000   \n",
       "1  [{'name': 'Other economic management', 'code':...     54,24          0   \n",
       "\n",
       "  totalcommamt                                                url  \n",
       "0    130000000  http://www.worldbank.org/projects/P129828/ethi...  \n",
       "1      4700000  http://www.worldbank.org/projects/P144674?lang=en  \n",
       "\n",
       "[2 rows x 50 columns]"
      ],
      "text/html": "<div>\n<style scoped>\n    .dataframe tbody tr th:only-of-type {\n        vertical-align: middle;\n    }\n\n    .dataframe tbody tr th {\n        vertical-align: top;\n    }\n\n    .dataframe thead th {\n        text-align: right;\n    }\n</style>\n<table border=\"1\" class=\"dataframe\">\n  <thead>\n    <tr style=\"text-align: right;\">\n      <th></th>\n      <th>_id</th>\n      <th>approvalfy</th>\n      <th>board_approval_month</th>\n      <th>boardapprovaldate</th>\n      <th>borrower</th>\n      <th>closingdate</th>\n      <th>country_namecode</th>\n      <th>countrycode</th>\n      <th>countryname</th>\n      <th>countryshortname</th>\n      <th>...</th>\n      <th>sectorcode</th>\n      <th>source</th>\n      <th>status</th>\n      <th>supplementprojectflg</th>\n      <th>theme1</th>\n      <th>theme_namecode</th>\n      <th>themecode</th>\n      <th>totalamt</th>\n      <th>totalcommamt</th>\n      <th>url</th>\n    </tr>\n  </thead>\n  <tbody>\n    <tr>\n      <th>0</th>\n      <td>{'$oid': '52b213b38594d8a2be17c780'}</td>\n      <td>1999</td>\n      <td>November</td>\n      <td>2013-11-12T00:00:00Z</td>\n      <td>FEDERAL DEMOCRATIC REPUBLIC OF ETHIOPIA</td>\n      <td>2018-07-07T00:00:00Z</td>\n      <td>Federal Democratic Republic of Ethiopia!$!ET</td>\n      <td>ET</td>\n      <td>Federal Democratic Republic of Ethiopia</td>\n      <td>Ethiopia</td>\n      <td>...</td>\n      <td>ET,BS,ES,EP</td>\n      <td>IBRD</td>\n      <td>Active</td>\n      <td>N</td>\n      <td>{'Name': 'Education for all', 'Percent': 100}</td>\n      <td>[{'name': 'Education for all', 'code': '65'}]</td>\n      <td>65</td>\n      <td>130000000</td>\n      <td>130000000</td>\n      <td>http://www.worldbank.org/projects/P129828/ethi...</td>\n    </tr>\n    <tr>\n      <th>1</th>\n      <td>{'$oid': '52b213b38594d8a2be17c781'}</td>\n      <td>2015</td>\n      <td>November</td>\n      <td>2013-11-04T00:00:00Z</td>\n      <td>GOVERNMENT OF TUNISIA</td>\n      <td>NaN</td>\n      <td>Republic of Tunisia!$!TN</td>\n      <td>TN</td>\n      <td>Republic of Tunisia</td>\n      <td>Tunisia</td>\n      <td>...</td>\n      <td>BZ,BS</td>\n      <td>IBRD</td>\n      <td>Active</td>\n      <td>N</td>\n      <td>{'Name': 'Other economic management', 'Percent...</td>\n      <td>[{'name': 'Other economic management', 'code':...</td>\n      <td>54,24</td>\n      <td>0</td>\n      <td>4700000</td>\n      <td>http://www.worldbank.org/projects/P144674?lang=en</td>\n    </tr>\n  </tbody>\n</table>\n<p>2 rows × 50 columns</p>\n</div>"
     },
     "metadata": {},
     "execution_count": 24
    }
   ],
   "source": [
    "# load as Pandas dataframe\n",
    "sample_json_df = pd.read_json('data/world_bank_projects_less.json')\n",
    "sample_json_df.info()\n",
    "sample_json_df.head()"
   ]
  },
  {
   "cell_type": "markdown",
   "metadata": {},
   "source": [
    "****\n",
    "## JSON exercise\n",
    "\n",
    "Using data in file 'data/world_bank_projects.json' and the techniques demonstrated above,  \n",
    "1. Find the 10 countries with most projects.  \n",
    "2. Find the top 10 major project themes (using column 'mjtheme_namecode').  \n",
    "3. In 2. above you will notice that some entries have only the code and the name is missing. Create a dataframe with the missing names filled in."
   ]
  },
  {
   "cell_type": "code",
   "execution_count": 63,
   "metadata": {
    "collapsed": true
   },
   "outputs": [
    {
     "output_type": "stream",
     "name": "stdout",
     "text": [
      "<class 'pandas.core.frame.DataFrame'>\nRangeIndex: 500 entries, 0 to 499\nData columns (total 50 columns):\n #   Column                    Non-Null Count  Dtype \n---  ------                    --------------  ----- \n 0   sector                    500 non-null    object\n 1   supplementprojectflg      498 non-null    object\n 2   projectfinancialtype      500 non-null    object\n 3   prodline                  500 non-null    object\n 4   mjtheme                   491 non-null    object\n 5   idacommamt                500 non-null    int64 \n 6   impagency                 472 non-null    object\n 7   project_name              500 non-null    object\n 8   mjthemecode               500 non-null    object\n 9   closingdate               370 non-null    object\n 10  totalcommamt              500 non-null    int64 \n 11  id                        500 non-null    object\n 12  mjsector_namecode         500 non-null    object\n 13  docty                     446 non-null    object\n 14  sector1                   500 non-null    object\n 15  lendinginstr              495 non-null    object\n 16  countrycode               500 non-null    object\n 17  sector2                   380 non-null    object\n 18  totalamt                  500 non-null    int64 \n 19  mjtheme_namecode          500 non-null    object\n 20  boardapprovaldate         500 non-null    object\n 21  countryshortname          500 non-null    object\n 22  sector4                   174 non-null    object\n 23  prodlinetext              500 non-null    object\n 24  productlinetype           500 non-null    object\n 25  regionname                500 non-null    object\n 26  status                    500 non-null    object\n 27  country_namecode          500 non-null    object\n 28  envassesmentcategorycode  430 non-null    object\n 29  project_abstract          362 non-null    object\n 30  approvalfy                500 non-null    int64 \n 31  projectdocs               446 non-null    object\n 32  lendprojectcost           500 non-null    int64 \n 33  lendinginstrtype          495 non-null    object\n 34  theme1                    500 non-null    object\n 35  grantamt                  500 non-null    int64 \n 36  themecode                 491 non-null    object\n 37  borrower                  485 non-null    object\n 38  sectorcode                500 non-null    object\n 39  sector3                   265 non-null    object\n 40  majorsector_percent       500 non-null    object\n 41  board_approval_month      500 non-null    object\n 42  theme_namecode            491 non-null    object\n 43  countryname               500 non-null    object\n 44  url                       500 non-null    object\n 45  source                    500 non-null    object\n 46  projectstatusdisplay      500 non-null    object\n 47  ibrdcommamt               500 non-null    int64 \n 48  sector_namecode           500 non-null    object\n 49  _id                       500 non-null    object\ndtypes: int64(7), object(43)\nmemory usage: 195.4+ KB\nNone\n"
     ]
    }
   ],
   "source": [
    "# json_normalize(sample_json_df.iloc[0].to_dict())\n",
    "# sample_json_df.project_name\n",
    "# type(sample_json_df.project_name)\n",
    "# sample_json_df.countryname.describe()\n",
    "# print(sample_json_df.to_json(orient='records'))\n",
    "# https://stackoverflow.com/questions/45325208/python-json-normalize-a-pandas-series-gives-typeerror\n",
    "data = pd.read_json('data/world_bank_projects.json')\n",
    "# print(data.head(3))\n",
    "\n",
    "# data = pd.concat([json_normalize(data.iloc[i].to_dict()) for i in range(len(data))])\n",
    "# for x in data:\n",
    "#     print(x)\n",
    "#     print(type(x))\n",
    "# print(data.iloc[0])\n",
    "# json_normalize\n",
    "\n",
    "print(data.info())\n",
    "\n",
    "\n"
   ]
  },
  {
   "cell_type": "code",
   "execution_count": 68,
   "metadata": {},
   "outputs": [
    {
     "output_type": "stream",
     "name": "stdout",
     "text": [
      "Republic of Indonesia              19\nPeople's Republic of China         19\nSocialist Republic of Vietnam      17\nRepublic of India                  16\nRepublic of Yemen                  13\nPeople's Republic of Bangladesh    12\nNepal                              12\nKingdom of Morocco                 12\nAfrica                             11\nRepublic of Mozambique             11\nName: countryname, dtype: int64\n"
     ]
    }
   ],
   "source": [
    "# Find the 10 countries with most projects\n",
    "print(data.countryname.value_counts().sort_values(ascending=False).head(10))"
   ]
  },
  {
   "cell_type": "code",
   "execution_count": 173,
   "metadata": {
    "tags": []
   },
   "outputs": [
    {
     "output_type": "stream",
     "name": "stdout",
     "text": [
      "11    250\n10    216\n8     210\n2     199\n6     168\n4     146\n7     130\n5      77\n9      50\n1      38\nName: code, dtype: int64\n"
     ]
    }
   ],
   "source": [
    "# Find the top 10 major project themes (using column 'mjtheme_namecode')\n",
    "\n",
    "\n",
    "# print(data.mjtheme_namecode.value_counts().sort_values(ascending=False).head(10))\n",
    "# flatten mjtheme_namecode\n",
    "# df = json_normalize(pd.DataFrame(data.mjtheme_namecode.tolist())['code'])\n",
    "# print(json_normalize(pd.DataFrame(data.mjtheme_namecode.values), 'code'))\n",
    "themes = json_normalize(data.values.tolist(), 19)\n",
    "print(themes.code.value_counts().sort_values(ascending=False).head(10))"
   ]
  },
  {
   "cell_type": "code",
   "execution_count": 172,
   "metadata": {},
   "outputs": [
    {
     "output_type": "stream",
     "name": "stdout",
     "text": [
      "      code                 name\n1114     1  Economic management\n204      1  Economic management\n647      1  Economic management\n1260     1  Economic management\n648      1  Economic management\n"
     ]
    },
    {
     "output_type": "execute_result",
     "data": {
      "text/plain": [
       "Environment and natural resources management    250\n",
       "Rural development                               216\n",
       "Human development                               210\n",
       "Public sector governance                        200\n",
       "Social protection and risk management           169\n",
       "Financial and private sector development        147\n",
       "Social dev/gender/inclusion                     129\n",
       "Trade and integration                            76\n",
       "Urban development                                50\n",
       "Economic management                              38\n",
       "Name: name, dtype: Int64"
      ]
     },
     "metadata": {},
     "execution_count": 172
    }
   ],
   "source": [
    "# In 2. above you will notice that some entries have only the code and the name is missing. Create a dataframe with the missing names filled in.\n",
    "import numpy as np\n",
    "\n",
    "themes['code'] = themes.code.astype('int')\n",
    "themes['name'] = themes.name.astype('string')\n",
    "themes.replace('', np.nan, inplace=True)\n",
    "themes = themes.sort_values('code')\n",
    "themes = themes.fillna(method='bfill')\n",
    "print(themes.head())\n",
    "# themes.iloc[1]\n",
    "# themes.info()\n",
    "\n",
    "# themes.name.value_counts().sort_values(ascending=False).head(10)\n"
   ]
  },
  {
   "cell_type": "code",
   "execution_count": null,
   "metadata": {},
   "outputs": [],
   "source": []
  }
 ],
 "metadata": {
  "kernelspec": {
   "name": "python3",
   "display_name": "Python 3.9.2 64-bit",
   "metadata": {
    "interpreter": {
     "hash": "7812ea015bdcee6f23a998adcdd2ef97c151c0c241b7b7070987d9313e41299d"
    }
   }
  },
  "language_info": {
   "codemirror_mode": {
    "name": "ipython",
    "version": 2
   },
   "file_extension": ".py",
   "mimetype": "text/x-python",
   "name": "python",
   "nbconvert_exporter": "python",
   "pygments_lexer": "ipython2",
   "version": "3.9.2-final"
  }
 },
 "nbformat": 4,
 "nbformat_minor": 0
}